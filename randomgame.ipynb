{
  "nbformat": 4,
  "nbformat_minor": 0,
  "metadata": {
    "colab": {
      "provenance": [],
      "authorship_tag": "ABX9TyOyQ14UnQqB2npiEWokuQbZ",
      "include_colab_link": true
    },
    "kernelspec": {
      "name": "python3",
      "display_name": "Python 3"
    },
    "language_info": {
      "name": "python"
    }
  },
  "cells": [
    {
      "cell_type": "markdown",
      "metadata": {
        "id": "view-in-github",
        "colab_type": "text"
      },
      "source": [
        "<a href=\"https://colab.research.google.com/github/donzeezy/Book/blob/master/randomgame.ipynb\" target=\"_parent\"><img src=\"https://colab.research.google.com/assets/colab-badge.svg\" alt=\"Open In Colab\"/></a>"
      ]
    },
    {
      "cell_type": "code",
      "execution_count": 2,
      "metadata": {
        "colab": {
          "base_uri": "https://localhost:8080/"
        },
        "id": "3HjdBrLyVotA",
        "outputId": "548b8d79-2a2b-414c-8e34-681ff8ed6918"
      },
      "outputs": [
        {
          "output_type": "stream",
          "name": "stdout",
          "text": [
            "420\n",
            "420\n"
          ]
        }
      ],
      "source": [
        "def spam():\n",
        "  print(egg)\n",
        "spam()\n",
        "egg = 420\n",
        "print(egg)"
      ]
    },
    {
      "cell_type": "code",
      "source": [
        "def spam():\n",
        "  eggs = 'spam local'\n",
        "  print(eggs) # prints 'spam local'\n",
        "def bacon():\n",
        "  eggs = 'bacon local'\n",
        "  print(eggs) # prints 'bacon local'\n",
        "  spam()\n",
        "  print(eggs) # prints 'bacon local'\n",
        "eggs = 'global'\n",
        "bacon()\n",
        "print(eggs) # prints 'global'"
      ],
      "metadata": {
        "id": "N2scLipuX0HK",
        "outputId": "ef1dc70c-062d-4b5e-f5b4-e61049f99d4d",
        "colab": {
          "base_uri": "https://localhost:8080/"
        }
      },
      "execution_count": 6,
      "outputs": [
        {
          "output_type": "stream",
          "name": "stdout",
          "text": [
            "bacon local\n",
            "spam local\n",
            "bacon local\n",
            "global\n"
          ]
        }
      ]
    },
    {
      "cell_type": "code",
      "source": [
        "def spam():\n",
        "  global eggs\n",
        "  eggs = 'spam' # this is the global\n",
        "def bacon():\n",
        "  eggs = 'bacon' # this is a local\n",
        "#Functions 71\n",
        "def ham():\n",
        "  print(eggs) # this is the global\n",
        "\n",
        "eggs = 42 # this is the global\n",
        "print(eggs)\n",
        "spam()\n",
        "print(eggs)"
      ],
      "metadata": {
        "id": "xVb4s_RTfqA5",
        "outputId": "5b689be7-089e-4037-c26a-ab9e4ce43fcf",
        "colab": {
          "base_uri": "https://localhost:8080/"
        }
      },
      "execution_count": 16,
      "outputs": [
        {
          "output_type": "stream",
          "name": "stdout",
          "text": [
            "42\n",
            "spam\n"
          ]
        }
      ]
    },
    {
      "cell_type": "code",
      "source": [
        "def spam(divideBy):\n",
        " try:\n",
        "  return 42 / divideBy\n",
        " except ZeroDivisionError:\n",
        "  print('Error: Invalid argument.')\n",
        "print(spam(2))\n",
        "print(spam(12))\n",
        "print(spam(0))\n",
        "print(spam(1))"
      ],
      "metadata": {
        "id": "spCxACkNlXEW",
        "outputId": "e79cae0a-981d-4925-93e7-971f83d6c301",
        "colab": {
          "base_uri": "https://localhost:8080/"
        }
      },
      "execution_count": 20,
      "outputs": [
        {
          "output_type": "stream",
          "name": "stdout",
          "text": [
            "21.0\n",
            "3.5\n",
            "Error: Invalid argument.\n",
            "None\n",
            "42.0\n"
          ]
        }
      ]
    },
    {
      "cell_type": "code",
      "source": [
        "def spam(divideBy):\n",
        " return 42 / divideBy\n",
        "try:\n",
        " print(spam(2))\n",
        " print(spam(12))\n",
        " print(spam(0))\n",
        " print(spam(1))\n",
        "except ZeroDivisionError:\n",
        " print('Error: Invalid argument.')"
      ],
      "metadata": {
        "id": "mqLV_sHUm_PA",
        "outputId": "9db29c9d-a6d9-4e02-d3eb-7b1c8bb7f51f",
        "colab": {
          "base_uri": "https://localhost:8080/"
        }
      },
      "execution_count": 21,
      "outputs": [
        {
          "output_type": "stream",
          "name": "stdout",
          "text": [
            "21.0\n",
            "3.5\n",
            "Error: Invalid argument.\n"
          ]
        }
      ]
    },
    {
      "cell_type": "code",
      "source": [
        "def spam(divideBy):\n",
        " return 42 / divideBy\n",
        "print(spam(2))\n",
        "print(spam(12))\n",
        "print(spam(0))\n",
        "print(spam(1))"
      ],
      "metadata": {
        "id": "3r17b5ggksBl",
        "outputId": "cc70e02d-e12c-4747-8815-b58ffb01eeb9",
        "colab": {
          "base_uri": "https://localhost:8080/"
        }
      },
      "execution_count": 22,
      "outputs": [
        {
          "output_type": "stream",
          "name": "stdout",
          "text": [
            "21.0\n",
            "3.5\n",
            "10.5\n",
            "42.0\n"
          ]
        }
      ]
    },
    {
      "cell_type": "code",
      "source": [
        "def bread():\n",
        "  food = \"butterbread\"\n",
        "  print(food)\n",
        "bread()"
      ],
      "metadata": {
        "id": "8F-t7xqhhkDA",
        "outputId": "cbf9b550-3e33-41d8-e854-d3fe8a6c042e",
        "colab": {
          "base_uri": "https://localhost:8080/"
        }
      },
      "execution_count": 15,
      "outputs": [
        {
          "output_type": "stream",
          "name": "stdout",
          "text": [
            "butterbread\n"
          ]
        }
      ]
    },
    {
      "cell_type": "code",
      "source": [
        "def spam():\n",
        "  global eggs\n",
        "  eggs = 'spam'\n",
        "eggs = 'global'\n",
        "spam()\n",
        "print(eggs)"
      ],
      "metadata": {
        "id": "vc8QEAdtciiQ",
        "outputId": "8cfbcbc5-1594-47eb-d0e7-365672d14e4d",
        "colab": {
          "base_uri": "https://localhost:8080/"
        }
      },
      "execution_count": 9,
      "outputs": [
        {
          "output_type": "stream",
          "name": "stdout",
          "text": [
            "spam\n"
          ]
        }
      ]
    },
    {
      "cell_type": "code",
      "source": [
        "# This is a guess the number game.\n",
        "import random\n",
        "secretNumber = random.randint(1, 20)\n",
        "print('I am thinking of a number between 1 and 20.')\n",
        "# Ask the player to guess 6 times.\n",
        "for guessesTaken in range(1, 3):\n",
        " print('Take a guess.')\n",
        " guess = int(input())\n",
        " if guess < secretNumber:\n",
        "   print('Your guess is too low.')\n",
        " elif guess > secretNumber:\n",
        "   print('Your guess is too high.')\n",
        " else:\n",
        "   break # This condition is the correct guess!\n",
        "if guess == secretNumber:\n",
        " print('Good job! You guessed my number in ' + str(guessesTaken) + ' guesses!')\n",
        "else:\n",
        " print('Nope. The number I was thinking of was ' + str(secretNumber))\n",
        "#This is a guess the number game.\n",
        "import random\n",
        "secretNumber = random.randint(1, 20)\n"
      ],
      "metadata": {
        "id": "mzJBABr0pKoD",
        "outputId": "373a1e0e-6d4a-438c-daef-1134e4a02ead",
        "colab": {
          "base_uri": "https://localhost:8080/"
        }
      },
      "execution_count": 27,
      "outputs": [
        {
          "output_type": "stream",
          "name": "stdout",
          "text": [
            "I am thinking of a number between 1 and 20.\n",
            "Take a guess.\n",
            "16\n",
            "Your guess is too high.\n",
            "Take a guess.\n",
            "11\n",
            "Your guess is too high.\n",
            "Nope. The number I was thinking of was 8\n"
          ]
        }
      ]
    },
    {
      "cell_type": "code",
      "source": [
        "print('I am thinking of a number between 1 and 20.')\n",
        "# Ask the player to guess 6 times.\n",
        "for guessesTaken in range(1, 7):\n",
        " print('Take a guess.')\n",
        " guess = int(input())"
      ],
      "metadata": {
        "id": "H_EC2GkbrIi7",
        "outputId": "3d0b951b-1749-4bef-8fd8-7ff5d2038023",
        "colab": {
          "base_uri": "https://localhost:8080/"
        }
      },
      "execution_count": 28,
      "outputs": [
        {
          "name": "stdout",
          "output_type": "stream",
          "text": [
            "I am thinking of a number between 1 and 20.\n",
            "Take a guess.\n",
            "14\n",
            "Take a guess.\n",
            "12\n",
            "Take a guess.\n",
            "11\n",
            "Take a guess.\n",
            "10\n",
            "Take a guess.\n",
            "7\n",
            "Take a guess.\n",
            "1\n"
          ]
        }
      ]
    },
    {
      "cell_type": "code",
      "source": [
        "import random\n",
        "secretnumber = random.randint(1,10)\n",
        "for guesstaken in range(1,4):\n",
        "\tprint(\"take a guess\")\n",
        "\tguess = int(input())\n",
        "\tif guess > secretnumber:\n",
        "\t\tprint(\"you are too high\")\n",
        "\telif guess < secretnumber:\n",
        "\t\tprint(\"you are too low\")\n",
        "\telse:\n",
        "\t\tbreak\n",
        "if guess == secretnumber:\n",
        "\tprint(\"you are good to go\")\n",
        "else:\n",
        "\tprint(\"the number i was thinking was \" + str(secretnumber))"
      ],
      "metadata": {
        "id": "Ue662n9luiGV",
        "outputId": "06e1c256-450e-471f-a645-262ce03698ee",
        "colab": {
          "base_uri": "https://localhost:8080/"
        }
      },
      "execution_count": 37,
      "outputs": [
        {
          "output_type": "stream",
          "name": "stdout",
          "text": [
            "take a guess\n",
            "5\n",
            "you are too low\n",
            "take a guess\n",
            "8\n",
            "you are too low\n",
            "take a guess\n",
            "9\n",
            "you are good to go\n"
          ]
        }
      ]
    }
  ]
}